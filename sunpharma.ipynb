{
  "nbformat": 4,
  "nbformat_minor": 0,
  "metadata": {
    "colab": {
      "name": "sunpharma.ipynb",
      "provenance": [],
      "collapsed_sections": [],
      "authorship_tag": "ABX9TyPteJgz9t6Ysueq2/+Zo/2o",
      "include_colab_link": true
    },
    "kernelspec": {
      "name": "python3",
      "display_name": "Python 3"
    }
  },
  "cells": [
    {
      "cell_type": "markdown",
      "metadata": {
        "id": "view-in-github",
        "colab_type": "text"
      },
      "source": [
        "<a href=\"https://colab.research.google.com/github/manuelmj39/Stock-Prediction/blob/master/sunpharma.ipynb\" target=\"_parent\"><img src=\"https://colab.research.google.com/assets/colab-badge.svg\" alt=\"Open In Colab\"/></a>"
      ]
    },
    {
      "cell_type": "code",
      "metadata": {
        "id": "KWca234XJ97x",
        "colab_type": "code",
        "colab": {
          "base_uri": "https://localhost:8080/",
          "height": 71
        },
        "outputId": "49d93d14-ee60-42cd-ada3-5b989e1926bd"
      },
      "source": [
        "#import the libraries\n",
        "import math\n",
        "import pandas_datareader as web\n",
        "import numpy as np\n",
        "import pandas as pd\n",
        "from sklearn.preprocessing import MinMaxScaler\n",
        "from keras.models import Sequential\n",
        "from keras.layers import Dense, LSTM\n",
        "import matplotlib.pyplot as plt\n",
        "plt.style.use('fivethirtyeight')\n"
      ],
      "execution_count": 1,
      "outputs": [
        {
          "output_type": "stream",
          "text": [
            "/usr/local/lib/python3.6/dist-packages/pandas_datareader/compat/__init__.py:7: FutureWarning: pandas.util.testing is deprecated. Use the functions in the public API at pandas.testing instead.\n",
            "  from pandas.util.testing import assert_frame_equal\n"
          ],
          "name": "stderr"
        }
      ]
    },
    {
      "cell_type": "code",
      "metadata": {
        "id": "F7a2J8KiLrDn",
        "colab_type": "code",
        "colab": {
          "base_uri": "https://localhost:8080/",
          "height": 450
        },
        "outputId": "298dc12e-ccd6-4cf6-9414-1b16da9a3eb3"
      },
      "source": [
        "# Get the stock quote\n",
        "df = web.DataReader('SUNPHARMA.NS', data_source='yahoo', start='2015-06-01', end='2020-06-23')\n",
        "# Show the data\n",
        "df"
      ],
      "execution_count": 2,
      "outputs": [
        {
          "output_type": "execute_result",
          "data": {
            "text/html": [
              "<div>\n",
              "<style scoped>\n",
              "    .dataframe tbody tr th:only-of-type {\n",
              "        vertical-align: middle;\n",
              "    }\n",
              "\n",
              "    .dataframe tbody tr th {\n",
              "        vertical-align: top;\n",
              "    }\n",
              "\n",
              "    .dataframe thead th {\n",
              "        text-align: right;\n",
              "    }\n",
              "</style>\n",
              "<table border=\"1\" class=\"dataframe\">\n",
              "  <thead>\n",
              "    <tr style=\"text-align: right;\">\n",
              "      <th></th>\n",
              "      <th>High</th>\n",
              "      <th>Low</th>\n",
              "      <th>Open</th>\n",
              "      <th>Close</th>\n",
              "      <th>Volume</th>\n",
              "      <th>Adj Close</th>\n",
              "    </tr>\n",
              "    <tr>\n",
              "      <th>Date</th>\n",
              "      <th></th>\n",
              "      <th></th>\n",
              "      <th></th>\n",
              "      <th></th>\n",
              "      <th></th>\n",
              "      <th></th>\n",
              "    </tr>\n",
              "  </thead>\n",
              "  <tbody>\n",
              "    <tr>\n",
              "      <th>2015-06-01</th>\n",
              "      <td>917.799988</td>\n",
              "      <td>869.099976</td>\n",
              "      <td>915.549988</td>\n",
              "      <td>877.650024</td>\n",
              "      <td>14265602.0</td>\n",
              "      <td>851.800903</td>\n",
              "    </tr>\n",
              "    <tr>\n",
              "      <th>2015-06-02</th>\n",
              "      <td>888.400024</td>\n",
              "      <td>856.849976</td>\n",
              "      <td>887.200012</td>\n",
              "      <td>860.750000</td>\n",
              "      <td>7192196.0</td>\n",
              "      <td>835.398621</td>\n",
              "    </tr>\n",
              "    <tr>\n",
              "      <th>2015-06-03</th>\n",
              "      <td>863.000000</td>\n",
              "      <td>840.500000</td>\n",
              "      <td>861.599976</td>\n",
              "      <td>842.400024</td>\n",
              "      <td>6496553.0</td>\n",
              "      <td>817.589111</td>\n",
              "    </tr>\n",
              "    <tr>\n",
              "      <th>2015-06-04</th>\n",
              "      <td>842.500000</td>\n",
              "      <td>818.599976</td>\n",
              "      <td>835.000000</td>\n",
              "      <td>831.549988</td>\n",
              "      <td>6628714.0</td>\n",
              "      <td>807.058716</td>\n",
              "    </tr>\n",
              "    <tr>\n",
              "      <th>2015-06-05</th>\n",
              "      <td>860.599976</td>\n",
              "      <td>830.000000</td>\n",
              "      <td>831.549988</td>\n",
              "      <td>847.900024</td>\n",
              "      <td>4696506.0</td>\n",
              "      <td>822.927124</td>\n",
              "    </tr>\n",
              "    <tr>\n",
              "      <th>...</th>\n",
              "      <td>...</td>\n",
              "      <td>...</td>\n",
              "      <td>...</td>\n",
              "      <td>...</td>\n",
              "      <td>...</td>\n",
              "      <td>...</td>\n",
              "    </tr>\n",
              "    <tr>\n",
              "      <th>2020-06-18</th>\n",
              "      <td>488.500000</td>\n",
              "      <td>483.000000</td>\n",
              "      <td>485.649994</td>\n",
              "      <td>484.250000</td>\n",
              "      <td>4077225.0</td>\n",
              "      <td>483.329376</td>\n",
              "    </tr>\n",
              "    <tr>\n",
              "      <th>2020-06-19</th>\n",
              "      <td>491.950012</td>\n",
              "      <td>485.200012</td>\n",
              "      <td>486.799988</td>\n",
              "      <td>488.100006</td>\n",
              "      <td>8114839.0</td>\n",
              "      <td>487.172058</td>\n",
              "    </tr>\n",
              "    <tr>\n",
              "      <th>2020-06-22</th>\n",
              "      <td>501.200012</td>\n",
              "      <td>486.000000</td>\n",
              "      <td>492.200012</td>\n",
              "      <td>493.200012</td>\n",
              "      <td>9203804.0</td>\n",
              "      <td>492.262360</td>\n",
              "    </tr>\n",
              "    <tr>\n",
              "      <th>2020-06-23</th>\n",
              "      <td>503.000000</td>\n",
              "      <td>489.500000</td>\n",
              "      <td>493.200012</td>\n",
              "      <td>500.450012</td>\n",
              "      <td>10732649.0</td>\n",
              "      <td>499.498596</td>\n",
              "    </tr>\n",
              "    <tr>\n",
              "      <th>2020-06-24</th>\n",
              "      <td>503.399994</td>\n",
              "      <td>481.000000</td>\n",
              "      <td>502.000000</td>\n",
              "      <td>484.399994</td>\n",
              "      <td>8567595.0</td>\n",
              "      <td>483.479065</td>\n",
              "    </tr>\n",
              "  </tbody>\n",
              "</table>\n",
              "<p>1246 rows × 6 columns</p>\n",
              "</div>"
            ],
            "text/plain": [
              "                  High         Low  ...      Volume   Adj Close\n",
              "Date                                ...                        \n",
              "2015-06-01  917.799988  869.099976  ...  14265602.0  851.800903\n",
              "2015-06-02  888.400024  856.849976  ...   7192196.0  835.398621\n",
              "2015-06-03  863.000000  840.500000  ...   6496553.0  817.589111\n",
              "2015-06-04  842.500000  818.599976  ...   6628714.0  807.058716\n",
              "2015-06-05  860.599976  830.000000  ...   4696506.0  822.927124\n",
              "...                ...         ...  ...         ...         ...\n",
              "2020-06-18  488.500000  483.000000  ...   4077225.0  483.329376\n",
              "2020-06-19  491.950012  485.200012  ...   8114839.0  487.172058\n",
              "2020-06-22  501.200012  486.000000  ...   9203804.0  492.262360\n",
              "2020-06-23  503.000000  489.500000  ...  10732649.0  499.498596\n",
              "2020-06-24  503.399994  481.000000  ...   8567595.0  483.479065\n",
              "\n",
              "[1246 rows x 6 columns]"
            ]
          },
          "metadata": {
            "tags": []
          },
          "execution_count": 2
        }
      ]
    },
    {
      "cell_type": "code",
      "metadata": {
        "id": "Cc4PIVcuODfx",
        "colab_type": "code",
        "colab": {
          "base_uri": "https://localhost:8080/",
          "height": 34
        },
        "outputId": "6dd3dd4e-7d85-4b86-a5e2-2a0defa0ef82"
      },
      "source": [
        "# Get the no of rows and columns in the data set\n",
        "df.shape "
      ],
      "execution_count": 3,
      "outputs": [
        {
          "output_type": "execute_result",
          "data": {
            "text/plain": [
              "(1246, 6)"
            ]
          },
          "metadata": {
            "tags": []
          },
          "execution_count": 3
        }
      ]
    },
    {
      "cell_type": "code",
      "metadata": {
        "id": "XVdGS_jROemc",
        "colab_type": "code",
        "colab": {
          "base_uri": "https://localhost:8080/",
          "height": 535
        },
        "outputId": "ad87d6df-1441-4ef9-b606-b43db77a31b8"
      },
      "source": [
        "# Visualize the closing price history \n",
        "plt.figure(figsize=(16,8))\n",
        "plt.title('Close price history')\n",
        "plt.plot(df['Close'])\n",
        "plt.xlabel('Date', fontsize=18)\n",
        "plt.ylabel('Close price INR(rs)', fontsize=18)\n",
        "plt.show\n",
        "\n"
      ],
      "execution_count": 4,
      "outputs": [
        {
          "output_type": "execute_result",
          "data": {
            "text/plain": [
              "<function matplotlib.pyplot.show>"
            ]
          },
          "metadata": {
            "tags": []
          },
          "execution_count": 4
        },
        {
          "output_type": "display_data",
          "data": {
            "image/png": "[encoded data removed]",
            "text/plain": [
              "<Figure size 1152x576 with 1 Axes>"
            ]
          },
          "metadata": {
            "tags": [],
            "needs_background": "light"
          }
        }
      ]
    },
    {
      "cell_type": "code",
      "metadata": {
        "id": "uBXYZ5u1TLVH",
        "colab_type": "code",
        "colab": {
          "base_uri": "https://localhost:8080/",
          "height": 34
        },
        "outputId": "03d0ece3-555f-4b5b-ac4f-8f9bdfc366ef"
      },
      "source": [
        "#Create a new data framme with only the close column\n",
        "data = df.filter(['Close'])\n",
        "#Convert the data frame to a numpy array\n",
        "dataset = data .values\n",
        "#Get the number of rows to train the model on \n",
        "training_data_len = math.ceil(len(dataset) * 0.80)\n",
        "training_data_len"
      ],
      "execution_count": 5,
      "outputs": [
        {
          "output_type": "execute_result",
          "data": {
            "text/plain": [
              "997"
            ]
          },
          "metadata": {
            "tags": []
          },
          "execution_count": 5
        }
      ]
    },
    {
      "cell_type": "code",
      "metadata": {
        "id": "b5rvtpf2UvzI",
        "colab_type": "code",
        "colab": {
          "base_uri": "https://localhost:8080/",
          "height": 136
        },
        "outputId": "d4309703-0e21-43be-ff8b-dcfb15261d2e"
      },
      "source": [
        "#Scale the data\n",
        "scaler = MinMaxScaler(feature_range=(0,1))\n",
        "scaled_data = scaler.fit_transform(dataset)\n",
        "scaled_data"
      ],
      "execution_count": 6,
      "outputs": [
        {
          "output_type": "execute_result",
          "data": {
            "text/plain": [
              "array([[0.88716925],\n",
              "       [0.86006415],\n",
              "       [0.83063356],\n",
              "       ...,\n",
              "       [0.27056939],\n",
              "       [0.28219729],\n",
              "       [0.25645548]])"
            ]
          },
          "metadata": {
            "tags": []
          },
          "execution_count": 6
        }
      ]
    },
    {
      "cell_type": "code",
      "metadata": {
        "id": "Fr2OJt7tVToa",
        "colab_type": "code",
        "colab": {
          "base_uri": "https://localhost:8080/",
          "height": 680
        },
        "outputId": "9f626f72-0e98-4704-d092-a11aa424f09c"
      },
      "source": [
        "#Create the training data\n",
        "#create the scaled training data set\n",
        "train_data = scaled_data[0:training_data_len , :]\n",
        "#split the data into x_train and y_train data sets\n",
        "x_train = []\n",
        "y_train = []\n",
        "for i in range(60, len(train_data)):\n",
        "   x_train.append(train_data[i-60:i, 0])\n",
        "   y_train.append(train_data[i, 0])\n",
        "   if i<=61:\n",
        "     print(x_train)\n",
        "     print(y_train)\n",
        "     print()\n"
      ],
      "execution_count": 7,
      "outputs": [
        {
          "output_type": "stream",
          "text": [
            "[array([0.88716925, 0.86006415, 0.83063356, 0.81323174, 0.83945473,\n",
            "       0.81002404, 0.77971135, 0.79967919, 0.79398555, 0.78436245,\n",
            "       0.82309545, 0.82694463, 0.83303933, 0.85252604, 0.8363272 ,\n",
            "       0.85388937, 0.85517243, 0.87666395, 0.86864471, 0.870409  ,\n",
            "       0.84210102, 0.88227743, 0.87987165, 0.87666395, 0.87650361,\n",
            "       0.88917406, 0.89951881, 0.87698474, 0.87874904, 0.92550118,\n",
            "       0.9478749 , 0.95412995, 0.97072975, 0.98933436, 0.99943869,\n",
            "       1.        , 0.77105052, 0.81804328, 0.80890132, 0.82068967,\n",
            "       0.80064156, 0.79494791, 0.81034483, 0.78548516, 0.79855657,\n",
            "       0.81226947, 0.81090614, 0.82983163, 0.83544511, 0.8459503 ,\n",
            "       0.827907  , 0.82959102, 0.86872498, 0.88941458, 0.9193264 ,\n",
            "       0.93295912, 0.90657578, 0.96752205, 0.98179635, 0.98380116])]\n",
            "[0.9087409391915598]\n",
            "\n",
            "[array([0.88716925, 0.86006415, 0.83063356, 0.81323174, 0.83945473,\n",
            "       0.81002404, 0.77971135, 0.79967919, 0.79398555, 0.78436245,\n",
            "       0.82309545, 0.82694463, 0.83303933, 0.85252604, 0.8363272 ,\n",
            "       0.85388937, 0.85517243, 0.87666395, 0.86864471, 0.870409  ,\n",
            "       0.84210102, 0.88227743, 0.87987165, 0.87666395, 0.87650361,\n",
            "       0.88917406, 0.89951881, 0.87698474, 0.87874904, 0.92550118,\n",
            "       0.9478749 , 0.95412995, 0.97072975, 0.98933436, 0.99943869,\n",
            "       1.        , 0.77105052, 0.81804328, 0.80890132, 0.82068967,\n",
            "       0.80064156, 0.79494791, 0.81034483, 0.78548516, 0.79855657,\n",
            "       0.81226947, 0.81090614, 0.82983163, 0.83544511, 0.8459503 ,\n",
            "       0.827907  , 0.82959102, 0.86872498, 0.88941458, 0.9193264 ,\n",
            "       0.93295912, 0.90657578, 0.96752205, 0.98179635, 0.98380116]), array([0.86006415, 0.83063356, 0.81323174, 0.83945473, 0.81002404,\n",
            "       0.77971135, 0.79967919, 0.79398555, 0.78436245, 0.82309545,\n",
            "       0.82694463, 0.83303933, 0.85252604, 0.8363272 , 0.85388937,\n",
            "       0.85517243, 0.87666395, 0.86864471, 0.870409  , 0.84210102,\n",
            "       0.88227743, 0.87987165, 0.87666395, 0.87650361, 0.88917406,\n",
            "       0.89951881, 0.87698474, 0.87874904, 0.92550118, 0.9478749 ,\n",
            "       0.95412995, 0.97072975, 0.98933436, 0.99943869, 1.        ,\n",
            "       0.77105052, 0.81804328, 0.80890132, 0.82068967, 0.80064156,\n",
            "       0.79494791, 0.81034483, 0.78548516, 0.79855657, 0.81226947,\n",
            "       0.81090614, 0.82983163, 0.83544511, 0.8459503 , 0.827907  ,\n",
            "       0.82959102, 0.86872498, 0.88941458, 0.9193264 , 0.93295912,\n",
            "       0.90657578, 0.96752205, 0.98179635, 0.98380116, 0.90874094])]\n",
            "[0.9087409391915598, 0.9079390145724738]\n",
            "\n"
          ],
          "name": "stdout"
        }
      ]
    },
    {
      "cell_type": "code",
      "metadata": {
        "id": "CBjV4sU0XE94",
        "colab_type": "code",
        "colab": {}
      },
      "source": [
        "#Convert the x_train and y_train to numpy arrays\n",
        "x_train, y_train = np.array(x_train), np.array(y_train)\n"
      ],
      "execution_count": 8,
      "outputs": []
    },
    {
      "cell_type": "code",
      "metadata": {
        "id": "4uk3Bw4CXYUL",
        "colab_type": "code",
        "colab": {
          "base_uri": "https://localhost:8080/",
          "height": 34
        },
        "outputId": "c43f82fe-29db-4d54-dbdf-aae53abd314c"
      },
      "source": [
        "#Reshape the data \n",
        "x_train = np.reshape(x_train, (x_train.shape[0], x_train.shape[1], 1))\n",
        "x_train.shape\n"
      ],
      "execution_count": 9,
      "outputs": [
        {
          "output_type": "execute_result",
          "data": {
            "text/plain": [
              "(937, 60, 1)"
            ]
          },
          "metadata": {
            "tags": []
          },
          "execution_count": 9
        }
      ]
    },
    {
      "cell_type": "code",
      "metadata": {
        "id": "8Uce60yuYOzP",
        "colab_type": "code",
        "colab": {}
      },
      "source": [
        "#Build he LSTM model\n",
        "model= Sequential()\n",
        "model.add(LSTM(50, return_sequences=True, input_shape= (x_train.shape[1], 1)))\n",
        "model.add(LSTM(50, return_sequences= False))\n",
        "model.add(Dense(25))\n",
        "model.add(Dense(1))"
      ],
      "execution_count": 10,
      "outputs": []
    },
    {
      "cell_type": "code",
      "metadata": {
        "id": "FjnXh-SNZRaU",
        "colab_type": "code",
        "colab": {}
      },
      "source": [
        "#Compile the model\n",
        "model.compile(optimizer='adam', loss='mean_squared_error')"
      ],
      "execution_count": 11,
      "outputs": []
    },
    {
      "cell_type": "code",
      "metadata": {
        "id": "HgsRqkidZmMX",
        "colab_type": "code",
        "colab": {
          "base_uri": "https://localhost:8080/",
          "height": 51
        },
        "outputId": "f5c2c0ba-a1ff-429d-f5d0-19f142aec1f5"
      },
      "source": [
        "#Train the model\n",
        "model.fit(x_train, y_train, batch_size=1, epochs=1)"
      ],
      "execution_count": 12,
      "outputs": [
        {
          "output_type": "stream",
          "text": [
            "937/937 [==============================] - 21s 22ms/step - loss: 0.0043\n"
          ],
          "name": "stdout"
        },
        {
          "output_type": "execute_result",
          "data": {
            "text/plain": [
              "<tensorflow.python.keras.callbacks.History at 0x7fa9085f56a0>"
            ]
          },
          "metadata": {
            "tags": []
          },
          "execution_count": 12
        }
      ]
    },
    {
      "cell_type": "code",
      "metadata": {
        "id": "4EJWjSYGaIwi",
        "colab_type": "code",
        "colab": {}
      },
      "source": [
        "#Create the testing data set\n",
        "#Create a new array containing scaled values from index 930 to 1237\n",
        "test_data = scaled_data[training_data_len - 60: , :]\n",
        "#create the data sets x_test and y_test\n",
        "x_test = []\n",
        "y_test = dataset[training_data_len:, :]\n",
        "for i in range(60, len(test_data)):\n",
        "  x_test.append(test_data[i-60:i, 0])\n",
        "  \n"
      ],
      "execution_count": 13,
      "outputs": []
    },
    {
      "cell_type": "code",
      "metadata": {
        "id": "Rbnoe77yblZy",
        "colab_type": "code",
        "colab": {}
      },
      "source": [
        "#Convert the data to a umpy array\n",
        "x_test = np.array(x_test)"
      ],
      "execution_count": 14,
      "outputs": []
    },
    {
      "cell_type": "code",
      "metadata": {
        "id": "QFTPt4nqcQ4j",
        "colab_type": "code",
        "colab": {}
      },
      "source": [
        "#Reshape the data\n",
        "x_test = np.reshape(x_test, (x_test.shape[0], x_test.shape[1], 1 ))\n"
      ],
      "execution_count": 15,
      "outputs": []
    },
    {
      "cell_type": "code",
      "metadata": {
        "id": "BDBWT8GDc4wv",
        "colab_type": "code",
        "colab": {}
      },
      "source": [
        "#get the models prdiction \n",
        "predictions = model.predict(x_test)\n",
        "predictions = scaler.inverse_transform(predictions)"
      ],
      "execution_count": 16,
      "outputs": []
    },
    {
      "cell_type": "code",
      "metadata": {
        "id": "HH0GxA1TdObV",
        "colab_type": "code",
        "colab": {
          "base_uri": "https://localhost:8080/",
          "height": 34
        },
        "outputId": "7751626a-21a5-467f-bce7-30bb1027b70f"
      },
      "source": [
        "#Get the root mean squared error(RMSE)\n",
        "rmse = np.sqrt(np.mean(predictions - y_test)**2)\n",
        "rmse"
      ],
      "execution_count": 17,
      "outputs": [
        {
          "output_type": "execute_result",
          "data": {
            "text/plain": [
              "15.589367724805472"
            ]
          },
          "metadata": {
            "tags": []
          },
          "execution_count": 17
        }
      ]
    },
    {
      "cell_type": "code",
      "metadata": {
        "id": "oZ4BKA8mdvgb",
        "colab_type": "code",
        "colab": {
          "base_uri": "https://localhost:8080/",
          "height": 620
        },
        "outputId": "b00cd233-528c-4b52-f60e-fffb608a0a2e"
      },
      "source": [
        "#Plot the data\n",
        "train= data[:training_data_len]\n",
        "valid = data[training_data_len:]\n",
        "valid['Predictions']= predictions\n",
        "#Visualise the Data\n",
        "plt.figure(figsize=(16,8))\n",
        "plt.title('Model')\n",
        "plt.xlabel('Date', fontsize=18)\n",
        "plt.ylabel('Close Price INR (rs)', fontsize=18)\n",
        "plt.plot(train['Close'])\n",
        "plt.plot(valid[['Close', 'Predictions']])\n",
        "plt.legend(['Train', 'Val', 'Predictions'], loc='lower right')\n",
        "plt.show()\n",
        "\n"
      ],
      "execution_count": 18,
      "outputs": [
        {
          "output_type": "stream",
          "text": [
            "/usr/local/lib/python3.6/dist-packages/ipykernel_launcher.py:4: SettingWithCopyWarning: \n",
            "A value is trying to be set on a copy of a slice from a DataFrame.\n",
            "Try using .loc[row_indexer,col_indexer] = value instead\n",
            "\n",
            "See the caveats in the documentation: https://pandas.pydata.org/pandas-docs/stable/user_guide/indexing.html#returning-a-view-versus-a-copy\n",
            "  after removing the cwd from sys.path.\n"
          ],
          "name": "stderr"
        },
        {
          "output_type": "display_data",
          "data": {
            "image/png": "[encoded data removed]",
            "text/plain": [
              "<Figure size 1152x576 with 1 Axes>"
            ]
          },
          "metadata": {
            "tags": [],
            "needs_background": "light"
          }
        }
      ]
    },
    {
      "cell_type": "code",
      "metadata": {
        "id": "tE9TxHyRfonf",
        "colab_type": "code",
        "colab": {
          "base_uri": "https://localhost:8080/",
          "height": 450
        },
        "outputId": "a9dd0b87-9586-4441-9470-da14ffbd9bf1"
      },
      "source": [
        "#Show the valid and predicted prices\n",
        "valid"
      ],
      "execution_count": 19,
      "outputs": [
        {
          "output_type": "execute_result",
          "data": {
            "text/html": [
              "<div>\n",
              "<style scoped>\n",
              "    .dataframe tbody tr th:only-of-type {\n",
              "        vertical-align: middle;\n",
              "    }\n",
              "\n",
              "    .dataframe tbody tr th {\n",
              "        vertical-align: top;\n",
              "    }\n",
              "\n",
              "    .dataframe thead th {\n",
              "        text-align: right;\n",
              "    }\n",
              "</style>\n",
              "<table border=\"1\" class=\"dataframe\">\n",
              "  <thead>\n",
              "    <tr style=\"text-align: right;\">\n",
              "      <th></th>\n",
              "      <th>Close</th>\n",
              "      <th>Predictions</th>\n",
              "    </tr>\n",
              "    <tr>\n",
              "      <th>Date</th>\n",
              "      <th></th>\n",
              "      <th></th>\n",
              "    </tr>\n",
              "  </thead>\n",
              "  <tbody>\n",
              "    <tr>\n",
              "      <th>2019-06-18</th>\n",
              "      <td>378.450012</td>\n",
              "      <td>385.249115</td>\n",
              "    </tr>\n",
              "    <tr>\n",
              "      <th>2019-06-19</th>\n",
              "      <td>375.200012</td>\n",
              "      <td>382.499084</td>\n",
              "    </tr>\n",
              "    <tr>\n",
              "      <th>2019-06-20</th>\n",
              "      <td>390.500000</td>\n",
              "      <td>379.567444</td>\n",
              "    </tr>\n",
              "    <tr>\n",
              "      <th>2019-06-21</th>\n",
              "      <td>382.799988</td>\n",
              "      <td>377.871826</td>\n",
              "    </tr>\n",
              "    <tr>\n",
              "      <th>2019-06-24</th>\n",
              "      <td>383.450012</td>\n",
              "      <td>376.500824</td>\n",
              "    </tr>\n",
              "    <tr>\n",
              "      <th>...</th>\n",
              "      <td>...</td>\n",
              "      <td>...</td>\n",
              "    </tr>\n",
              "    <tr>\n",
              "      <th>2020-06-18</th>\n",
              "      <td>484.250000</td>\n",
              "      <td>467.174103</td>\n",
              "    </tr>\n",
              "    <tr>\n",
              "      <th>2020-06-19</th>\n",
              "      <td>488.100006</td>\n",
              "      <td>466.846985</td>\n",
              "    </tr>\n",
              "    <tr>\n",
              "      <th>2020-06-22</th>\n",
              "      <td>493.200012</td>\n",
              "      <td>466.809814</td>\n",
              "    </tr>\n",
              "    <tr>\n",
              "      <th>2020-06-23</th>\n",
              "      <td>500.450012</td>\n",
              "      <td>467.341339</td>\n",
              "    </tr>\n",
              "    <tr>\n",
              "      <th>2020-06-24</th>\n",
              "      <td>484.399994</td>\n",
              "      <td>468.726410</td>\n",
              "    </tr>\n",
              "  </tbody>\n",
              "</table>\n",
              "<p>249 rows × 2 columns</p>\n",
              "</div>"
            ],
            "text/plain": [
              "                 Close  Predictions\n",
              "Date                               \n",
              "2019-06-18  378.450012   385.249115\n",
              "2019-06-19  375.200012   382.499084\n",
              "2019-06-20  390.500000   379.567444\n",
              "2019-06-21  382.799988   377.871826\n",
              "2019-06-24  383.450012   376.500824\n",
              "...                ...          ...\n",
              "2020-06-18  484.250000   467.174103\n",
              "2020-06-19  488.100006   466.846985\n",
              "2020-06-22  493.200012   466.809814\n",
              "2020-06-23  500.450012   467.341339\n",
              "2020-06-24  484.399994   468.726410\n",
              "\n",
              "[249 rows x 2 columns]"
            ]
          },
          "metadata": {
            "tags": []
          },
          "execution_count": 19
        }
      ]
    },
    {
      "cell_type": "code",
      "metadata": {
        "id": "XC4co2QZgBhM",
        "colab_type": "code",
        "colab": {
          "base_uri": "https://localhost:8080/",
          "height": 34
        },
        "outputId": "f9606694-0fa5-470c-84aa-d71f4b960937"
      },
      "source": [
        "#Get the Quote\n",
        "sunpharma_quote = web.DataReader('SUNPHARMA.NS', data_source='yahoo', start='2015-06-01', end='2020-06-23')\n",
        "#Create a new dataframe\n",
        "new_df = sunpharma_quote.filter(['Close'])\n",
        "#Get the last 60 days closing price values and convet the dataframe to an array\n",
        "last_60_days = new_df[-60:].values\n",
        "#Scale the data to be values between 0 and 1\n",
        "last_60_days_scaled = scaler.transform(last_60_days)\n",
        "#Create an empty list\n",
        "X_test = []\n",
        "# Appwnd the past 60 days\n",
        "X_test.append(last_60_days_scaled)\n",
        "#Convert the X_test data set to a numpy array\n",
        "X_test = np.array(X_test)\n",
        "#Reshape the data\n",
        "X_test = np.reshape(X_test, (X_test.shape[0], X_test.shape[1], 1))\n",
        "#Get the predicted scale price\n",
        "pred_price = model.predict(X_test)\n",
        "#undo the scaling\n",
        "pred_price=scaler.inverse_transform(pred_price)\n",
        "print(pred_price)"
      ],
      "execution_count": 20,
      "outputs": [
        {
          "output_type": "stream",
          "text": [
            "[[469.23688]]\n"
          ],
          "name": "stdout"
        }
      ]
    }
  ]
}